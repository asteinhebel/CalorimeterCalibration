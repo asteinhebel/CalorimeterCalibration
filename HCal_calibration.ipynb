{
 "cells": [
  {
   "cell_type": "code",
   "execution_count": 1,
   "metadata": {},
   "outputs": [
    {
     "data": {
      "text/plain": [
       "Plots.GRBackend()"
      ]
     },
     "execution_count": 1,
     "metadata": {},
     "output_type": "execute_result"
    }
   ],
   "source": [
    "using LCIO\n",
    "using Plots\n",
    "using Glob\n",
    "using LsqFit\n",
    "gr()"
   ]
  },
  {
   "cell_type": "code",
   "execution_count": 2,
   "metadata": {},
   "outputs": [
    {
     "name": "stdout",
     "output_type": "stream",
     "text": [
      "Dict(20=>\"SingleParticles/K0L_20GeV_theta5-175_barrel_sidloi3_scint3x3_pandoraREC.slcio\",100=>\"SingleParticles/K0L_100GeV_theta5-175_barrel_sidloi3_scint3x3_pandoraREC.slcio\",10=>\"SingleParticles/K0L_10GeV_theta5-175_barrel_sidloi3_scint3x3_pandoraREC.slcio\",50=>\"SingleParticles/K0L_50GeV_theta5-175_barrel_sidloi3_scint3x3_pandoraREC.slcio\",2=>\"SingleParticles/K0L_2GeV_theta5-175_barrel_sidloi3_scint3x3_pandoraREC.slcio\",5=>\"SingleParticles/K0L_5GeV_theta5-175_barrel_sidloi3_scint3x3_pandoraREC.slcio\",1=>\"SingleParticles/K0L_1GeV_theta5-175_barrel_sidloi3_scint3x3_pandoraREC.slcio\")\n"
     ]
    }
   ],
   "source": [
    "# read the files for calibration\n",
    "fileList = readdir(glob\"K0L*barrel*\", \"SingleParticles\")\n",
    "\n",
    "# build the list of input energies\n",
    "energyString = r\"_(\\d+)GeV\"\n",
    "# get the energy string from the filename, convert from string to int, build a dictionary from ints to filenames\n",
    "energyMap = Dict((parse(Int16, match(energyString, fn)[1]), fn) for fn in fileList)\n",
    "println(energyMap)"
   ]
  },
  {
   "cell_type": "code",
   "execution_count": 3,
   "metadata": {},
   "outputs": [
    {
     "data": {
      "text/plain": [
       "getHitsFromFile (generic function with 1 method)"
      ]
     },
     "execution_count": 3,
     "metadata": {},
     "output_type": "execute_result"
    }
   ],
   "source": [
    "function getHitsFromFile(filename)\n",
    "    eCalEnergies = Float64[]\n",
    "    hCalEnergies = Float64[]\n",
    "    eCalLengths = Int16[]\n",
    "    hCalLengths = Int16[]\n",
    "    LCIO.open(filename) do reader\n",
    "        for (idx, event) in enumerate(reader)\n",
    "            if idx > 10000\n",
    "                break\n",
    "            end\n",
    "            hCalEnergy = 0.0\n",
    "            hCalLength = 0\n",
    "            eCalEnergy = 0.0\n",
    "            eCalLength = 0\n",
    "            # for cn in getCollectionNames(event)\n",
    "            #     println(cn)\n",
    "            # end\n",
    "            # break\n",
    "            # sum up the uncalibrated HCalHits\n",
    "            for hit in getCollection(event, \"HcalBarrelHits\")\n",
    "                hCalEnergy += getEnergy(hit)\n",
    "                hCalLength += 1\n",
    "            end\n",
    "            # sum up the calibrated ECalHits\n",
    "            for hit in getCollection(event, \"EM_BARREL\")\n",
    "                eCalEnergy += getEnergy(hit)\n",
    "                eCalLength += 1\n",
    "            end\n",
    "            push!(eCalEnergies, eCalEnergy)\n",
    "            push!(eCalLengths, eCalLength)\n",
    "            push!(hCalEnergies, hCalEnergy)\n",
    "            push!(hCalLengths, hCalLength)\n",
    "        end\n",
    "    end\n",
    "    return eCalEnergies, eCalLengths, hCalEnergies, hCalLengths\n",
    "end"
   ]
  },
  {
   "cell_type": "code",
   "execution_count": null,
   "metadata": {},
   "outputs": [],
   "source": [
    "eHits  = Dict{Int16, Vector{Float64}}()\n",
    "eCount = Dict{Int16, Vector{Int16}}()\n",
    "hHits  = Dict{Int16, Vector{Float64}}()\n",
    "hCount = Dict{Int16, Vector{Int16}}()\n",
    "for (energy, filename) in energyMap\n",
    "    eCal, nEhits, hCal, nHhits = getHitsFromFile(filename);\n",
    "    eHits[energy] = eCal\n",
    "    eCount[energy] = nEhits\n",
    "    hHits[energy] = hCal\n",
    "    hCount[energy] = nHhits\n",
    "end"
   ]
  },
  {
   "cell_type": "code",
   "execution_count": null,
   "metadata": {},
   "outputs": [],
   "source": [
    "histogram([eHits[5] .+ hHits[5], eHits[10] .+ hHits[10], eHits[20].+ hHits[20]])"
   ]
  },
  {
   "cell_type": "code",
   "execution_count": null,
   "metadata": {},
   "outputs": [],
   "source": [
    "# for now, we'll only adjust the hcal calibration\n",
    "# pass the data in as x[1]=ecal x[2]=hcal\n",
    "function fitter(ecal, hcal, energy)\n",
    "    function model(x, p)\n",
    "        return ecal + p[1] .* hcal\n",
    "    end\n",
    "    fit = curve_fit(model, hcal, energy, [0.5])\n",
    "    return fit.param\n",
    "end\n",
    "# let's now assume x is the dictionary of energies and hits\n",
    "function linearityModel(x, p)\n",
    "    \n",
    "end\n",
    "for energy in keys(hHits)\n",
    "    ecal = eHits[energy]\n",
    "    hcal = hHits[energy]\n",
    "    println(energy, '\\t', fitter(ecal, hcal, energy))\n",
    "end"
   ]
  },
  {
   "cell_type": "code",
   "execution_count": null,
   "metadata": {},
   "outputs": [],
   "source": [
    "histogram(eCal .+ α .*hCal)"
   ]
  },
  {
   "cell_type": "code",
   "execution_count": null,
   "metadata": {},
   "outputs": [],
   "source": [
    "histogram(nEhits)"
   ]
  },
  {
   "cell_type": "code",
   "execution_count": null,
   "metadata": {},
   "outputs": [],
   "source": [
    "histogram(nHhits)"
   ]
  },
  {
   "cell_type": "code",
   "execution_count": null,
   "metadata": {},
   "outputs": [],
   "source": [
    "histogram(nEhits+nHhits)"
   ]
  },
  {
   "cell_type": "code",
   "execution_count": null,
   "metadata": {},
   "outputs": [],
   "source": [
    "x = nEhits+nHhits"
   ]
  },
  {
   "cell_type": "code",
   "execution_count": null,
   "metadata": {},
   "outputs": [],
   "source": [
    "x[x.<30]"
   ]
  },
  {
   "cell_type": "code",
   "execution_count": null,
   "metadata": {
    "collapsed": true
   },
   "outputs": [],
   "source": []
  }
 ],
 "metadata": {
  "kernelspec": {
   "display_name": "Julia 0.5.0",
   "language": "julia",
   "name": "julia-0.5"
  },
  "language_info": {
   "file_extension": ".jl",
   "mimetype": "application/julia",
   "name": "julia",
   "version": "0.5.1"
  }
 },
 "nbformat": 4,
 "nbformat_minor": 2
}
